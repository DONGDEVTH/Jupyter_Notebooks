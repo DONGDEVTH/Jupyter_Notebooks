{
  "nbformat": 4,
  "nbformat_minor": 0,
  "metadata": {
    "colab": {
      "name": "qrcode.ipynb",
      "provenance": [],
      "collapsed_sections": []
    },
    "kernelspec": {
      "name": "python3",
      "display_name": "Python 3"
    }
  },
  "cells": [
    {
      "cell_type": "code",
      "metadata": {
        "colab": {
          "base_uri": "https://localhost:8080/"
        },
        "id": "IGSzN9WDIN2R",
        "outputId": "85e382ea-3600-43b6-b5a3-a36f46ae4e3f"
      },
      "source": [
        "pip install qrcode[pil]"
      ],
      "execution_count": 1,
      "outputs": [
        {
          "output_type": "stream",
          "text": [
            "Requirement already satisfied: qrcode[pil] in /usr/local/lib/python3.7/dist-packages (6.1)\n",
            "Requirement already satisfied: six in /usr/local/lib/python3.7/dist-packages (from qrcode[pil]) (1.15.0)\n",
            "Requirement already satisfied: pillow; extra == \"pil\" in /usr/local/lib/python3.7/dist-packages (from qrcode[pil]) (7.0.0)\n"
          ],
          "name": "stdout"
        }
      ]
    },
    {
      "cell_type": "code",
      "metadata": {
        "id": "vOn9P3iyIXMK"
      },
      "source": [
        "import qrcode\r\n",
        "qr = qrcode.QRCode(\r\n",
        "    version=1,\r\n",
        "    error_correction=qrcode.constants.ERROR_CORRECT_L,\r\n",
        "    box_size=10,\r\n",
        "    border=4,\r\n",
        ")\r\n",
        "qr.add_data('Some data')\r\n",
        "qr.make(fit=True)\r\n",
        "\r\n",
        "img = qr.make_image(fill_color=\"black\", back_color=\"white\")"
      ],
      "execution_count": 6,
      "outputs": []
    },
    {
      "cell_type": "code",
      "metadata": {
        "colab": {
          "base_uri": "https://localhost:8080/",
          "height": 307
        },
        "id": "OVIL09MWJDq9",
        "outputId": "4ab6c6e7-5f98-4011-95f1-acfc3373d045"
      },
      "source": [
        "img"
      ],
      "execution_count": 7,
      "outputs": [
        {
          "output_type": "execute_result",
          "data": {
            "image/png": "[encoded data removed]",
            "text/plain": [
              "<qrcode.image.pil.PilImage at 0x7f99067bcfd0>"
            ]
          },
          "metadata": {
            "tags": []
          },
          "execution_count": 7
        }
      ]
    }
  ]
}