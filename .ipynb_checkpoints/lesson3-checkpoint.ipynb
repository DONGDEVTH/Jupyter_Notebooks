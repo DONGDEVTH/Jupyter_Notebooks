{
 "cells": [
  {
   "cell_type": "markdown",
   "metadata": {},
   "source": [
    "# Header lever 1-6\n",
    "\n",
    "## Header1\n",
    "\n",
    "### Header2\n",
    "\n",
    "#### Header3\n",
    "\n",
    "<h1> Header4 </h1>\n"
   ]
  },
  {
   "cell_type": "markdown",
   "metadata": {},
   "source": [
    "1. coffee\n",
    "    * mocha\n",
    "    * latte\n",
    "    * espresso\n",
    "2. tea\n",
    "    * green\n",
    "    * jasmine\n",
    "3. soft drink\n",
    "    * coke\n",
    "        * classic\n",
    "        * diet\n",
    "4. Water"
   ]
  },
  {
   "cell_type": "markdown",
   "metadata": {},
   "source": [
    "first line.   \n",
    "second line.   \n",
    "third line.  "
   ]
  },
  {
   "cell_type": "markdown",
   "metadata": {},
   "source": [
    "The *imposible* dream.  \n",
    "The **Test** dream.    \n",
    "The ~~~~NEVER dream.~~~~~~~"
   ]
  },
  {
   "cell_type": "markdown",
   "metadata": {},
   "source": [
    "The <span style=color:red>*imposible*</span> dream.  \n",
    "The <span style=color:red;font-size:150%>**Test** </span>dream.    \n",
    "The ~~~~NEVER dream.~~~~~~~"
   ]
  },
  {
   "cell_type": "markdown",
   "metadata": {},
   "source": [
    "![ ]\n",
    "(https://github.com/prasertcbs/tutorial/raw/master/RoyalBarge-001.jpg \"เรือพระที่นั่งสุพรรณหงส์\")"
   ]
  },
  {
   "cell_type": "markdown",
   "metadata": {},
   "source": [
    "A wiki enables communities of editors and contributors to write documents collaboratively. All that people require to contribute is a computer, Internet \n",
    " * access, a web browser, and a basic understanding of a simple markup lge   \n",
    " * (e.g., MediaWiki markup language). A single page in a wiki website is          a \"wiki page\", while the entire collection of pages, which are usual-          interconnected by hyperlinks, is \"the wiki\". A wiki is essentia           database for creating, browsing, and searching through informat wiki          allows non-linear, evolving, complex, and networked text, whil"
   ]
  }
 ],
 "metadata": {
  "kernelspec": {
   "display_name": "Python 3",
   "language": "python",
   "name": "python3"
  },
  "language_info": {
   "codemirror_mode": {
    "name": "ipython",
    "version": 3
   },
   "file_extension": ".py",
   "mimetype": "text/x-python",
   "name": "python",
   "nbconvert_exporter": "python",
   "pygments_lexer": "ipython3",
   "version": "3.8.5"
  }
 },
 "nbformat": 4,
 "nbformat_minor": 4
}
